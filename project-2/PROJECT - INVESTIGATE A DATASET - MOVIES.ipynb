{
 "cells": [
  {
   "cell_type": "markdown",
   "metadata": {},
   "source": [
    "# Project: Investigate a Dataset (TMDb Movie Data)"
   ]
  },
  {
   "cell_type": "markdown",
   "metadata": {},
   "source": [
    "![caption](files/movies.PNG)"
   ]
  },
  {
   "cell_type": "markdown",
   "metadata": {},
   "source": [
    "# Project: Investigate a Dataset (TMDb Movie Data)\n",
    "\n",
    "## Table of Contents\n",
    "<ul>\n",
    "<li><a href=\"#intro\">Introduction</a></li>\n",
    "<li><a href=\"#wrangling\">Data Wrangling</a></li>\n",
    "<li><a href=\"#eda\">Exploratory Data Analysis</a></li>\n",
    "<li><a href=\"#conclusions\">Conclusions</a></li>\n",
    "</ul>"
   ]
  },
  {
   "cell_type": "markdown",
   "metadata": {},
   "source": [
    "<a id='intro'></a>\n",
    "## Introduction\n",
    "\n",
    "For data analysis, I picked up and selected the TMDb movie dataset. This dataset is required to carry out all of the Data Anaysis's technique and its methodology and it consists of information from The Movie Database (TMDb) regarding 10,000 movies, including user reviews and revenue. Also, there is often too much information available to make a clear decision. that is why I have chosen to search for more interesting trends in the results.  \n",
    "\n",
    "### Strategical plan \n",
    " 1. Clean up the data after previewing it. \n",
    "    - Delete any information that isn't relevant to the analysis.  \n",
    "    - Check and validate for null values and duplicated values.\n",
    "    - Converting any data types which is not suitable for the Data Analysis. <br><br>\n",
    " 2. Investigate the data and outline to findings\n",
    "    - find useful facts, look at the statistics methedology. \n",
    "    - Group and filter certain data to find important patterns\n",
    "    - look at the numbers, trends, and data and come to new conclusions based on the findings.\n",
    "    - Illustrate the findings, plot the above data and construct a visualisation.\n",
    "    - present the data findings or translate the data into an understandable document.\n",
    "    \n",
    " \n",
    "Questions\n",
    "1. Which films are the most lucrative in terms of the box office?\n",
    "2. Which films have the most and least profit, budget and runtime?\n",
    "3. What effect does celebrity have on profit?\n",
    "4. Which years were the most profitable for films? \n",
    "5. What are the most well-known actors, directors, and genres? \n",
    "6. Which months have the highest film profits?\n",
    "  "
   ]
  },
  {
   "cell_type": "code",
   "execution_count": 1,
   "metadata": {},
   "outputs": [],
   "source": [
    "# Import necessary libraries for initial data understanding, visualisations and exploratory data analysis\n",
    "# Import all libraries\n",
    "import pandas as pd # converting an entire data table into a NumPy matrix array\n",
    "import numpy as np  # helping to avoid namespace issues\n",
    "import matplotlib.pyplot as plt # creating or plotting area in a figure, lines  and decorates the plot with labels, etc.\n",
    "%matplotlib inline\n",
    "import seaborn as sns # Importing seaborn\n",
    "from datetime import datetime as dt\n",
    "sns.set_style('darkgrid')"
   ]
  },
  {
   "cell_type": "markdown",
   "metadata": {},
   "source": [
    "<a id='wrangling'></a>\n",
    "## Data Wrangling"
   ]
  },
  {
   "cell_type": "code",
   "execution_count": 2,
   "metadata": {},
   "outputs": [
    {
     "data": {
      "text/html": [
       "<div>\n",
       "<style scoped>\n",
       "    .dataframe tbody tr th:only-of-type {\n",
       "        vertical-align: middle;\n",
       "    }\n",
       "\n",
       "    .dataframe tbody tr th {\n",
       "        vertical-align: top;\n",
       "    }\n",
       "\n",
       "    .dataframe thead th {\n",
       "        text-align: right;\n",
       "    }\n",
       "</style>\n",
       "<table border=\"1\" class=\"dataframe\">\n",
       "  <thead>\n",
       "    <tr style=\"text-align: right;\">\n",
       "      <th></th>\n",
       "      <th>id</th>\n",
       "      <th>imdb_id</th>\n",
       "      <th>popularity</th>\n",
       "      <th>budget</th>\n",
       "      <th>revenue</th>\n",
       "      <th>original_title</th>\n",
       "      <th>cast</th>\n",
       "      <th>homepage</th>\n",
       "      <th>director</th>\n",
       "      <th>tagline</th>\n",
       "      <th>...</th>\n",
       "      <th>overview</th>\n",
       "      <th>runtime</th>\n",
       "      <th>genres</th>\n",
       "      <th>production_companies</th>\n",
       "      <th>release_date</th>\n",
       "      <th>vote_count</th>\n",
       "      <th>vote_average</th>\n",
       "      <th>release_year</th>\n",
       "      <th>budget_adj</th>\n",
       "      <th>revenue_adj</th>\n",
       "    </tr>\n",
       "  </thead>\n",
       "  <tbody>\n",
       "    <tr>\n",
       "      <th>0</th>\n",
       "      <td>135397</td>\n",
       "      <td>tt0369610</td>\n",
       "      <td>32.985763</td>\n",
       "      <td>150000000</td>\n",
       "      <td>1513528810</td>\n",
       "      <td>Jurassic World</td>\n",
       "      <td>Chris Pratt|Bryce Dallas Howard|Irrfan Khan|Vi...</td>\n",
       "      <td>http://www.jurassicworld.com/</td>\n",
       "      <td>Colin Trevorrow</td>\n",
       "      <td>The park is open.</td>\n",
       "      <td>...</td>\n",
       "      <td>Twenty-two years after the events of Jurassic ...</td>\n",
       "      <td>124</td>\n",
       "      <td>Action|Adventure|Science Fiction|Thriller</td>\n",
       "      <td>Universal Studios|Amblin Entertainment|Legenda...</td>\n",
       "      <td>6/9/15</td>\n",
       "      <td>5562</td>\n",
       "      <td>6.5</td>\n",
       "      <td>2015</td>\n",
       "      <td>1.379999e+08</td>\n",
       "      <td>1.392446e+09</td>\n",
       "    </tr>\n",
       "    <tr>\n",
       "      <th>1</th>\n",
       "      <td>76341</td>\n",
       "      <td>tt1392190</td>\n",
       "      <td>28.419936</td>\n",
       "      <td>150000000</td>\n",
       "      <td>378436354</td>\n",
       "      <td>Mad Max: Fury Road</td>\n",
       "      <td>Tom Hardy|Charlize Theron|Hugh Keays-Byrne|Nic...</td>\n",
       "      <td>http://www.madmaxmovie.com/</td>\n",
       "      <td>George Miller</td>\n",
       "      <td>What a Lovely Day.</td>\n",
       "      <td>...</td>\n",
       "      <td>An apocalyptic story set in the furthest reach...</td>\n",
       "      <td>120</td>\n",
       "      <td>Action|Adventure|Science Fiction|Thriller</td>\n",
       "      <td>Village Roadshow Pictures|Kennedy Miller Produ...</td>\n",
       "      <td>5/13/15</td>\n",
       "      <td>6185</td>\n",
       "      <td>7.1</td>\n",
       "      <td>2015</td>\n",
       "      <td>1.379999e+08</td>\n",
       "      <td>3.481613e+08</td>\n",
       "    </tr>\n",
       "    <tr>\n",
       "      <th>2</th>\n",
       "      <td>262500</td>\n",
       "      <td>tt2908446</td>\n",
       "      <td>13.112507</td>\n",
       "      <td>110000000</td>\n",
       "      <td>295238201</td>\n",
       "      <td>Insurgent</td>\n",
       "      <td>Shailene Woodley|Theo James|Kate Winslet|Ansel...</td>\n",
       "      <td>http://www.thedivergentseries.movie/#insurgent</td>\n",
       "      <td>Robert Schwentke</td>\n",
       "      <td>One Choice Can Destroy You</td>\n",
       "      <td>...</td>\n",
       "      <td>Beatrice Prior must confront her inner demons ...</td>\n",
       "      <td>119</td>\n",
       "      <td>Adventure|Science Fiction|Thriller</td>\n",
       "      <td>Summit Entertainment|Mandeville Films|Red Wago...</td>\n",
       "      <td>3/18/15</td>\n",
       "      <td>2480</td>\n",
       "      <td>6.3</td>\n",
       "      <td>2015</td>\n",
       "      <td>1.012000e+08</td>\n",
       "      <td>2.716190e+08</td>\n",
       "    </tr>\n",
       "    <tr>\n",
       "      <th>3</th>\n",
       "      <td>140607</td>\n",
       "      <td>tt2488496</td>\n",
       "      <td>11.173104</td>\n",
       "      <td>200000000</td>\n",
       "      <td>2068178225</td>\n",
       "      <td>Star Wars: The Force Awakens</td>\n",
       "      <td>Harrison Ford|Mark Hamill|Carrie Fisher|Adam D...</td>\n",
       "      <td>http://www.starwars.com/films/star-wars-episod...</td>\n",
       "      <td>J.J. Abrams</td>\n",
       "      <td>Every generation has a story.</td>\n",
       "      <td>...</td>\n",
       "      <td>Thirty years after defeating the Galactic Empi...</td>\n",
       "      <td>136</td>\n",
       "      <td>Action|Adventure|Science Fiction|Fantasy</td>\n",
       "      <td>Lucasfilm|Truenorth Productions|Bad Robot</td>\n",
       "      <td>12/15/15</td>\n",
       "      <td>5292</td>\n",
       "      <td>7.5</td>\n",
       "      <td>2015</td>\n",
       "      <td>1.839999e+08</td>\n",
       "      <td>1.902723e+09</td>\n",
       "    </tr>\n",
       "    <tr>\n",
       "      <th>4</th>\n",
       "      <td>168259</td>\n",
       "      <td>tt2820852</td>\n",
       "      <td>9.335014</td>\n",
       "      <td>190000000</td>\n",
       "      <td>1506249360</td>\n",
       "      <td>Furious 7</td>\n",
       "      <td>Vin Diesel|Paul Walker|Jason Statham|Michelle ...</td>\n",
       "      <td>http://www.furious7.com/</td>\n",
       "      <td>James Wan</td>\n",
       "      <td>Vengeance Hits Home</td>\n",
       "      <td>...</td>\n",
       "      <td>Deckard Shaw seeks revenge against Dominic Tor...</td>\n",
       "      <td>137</td>\n",
       "      <td>Action|Crime|Thriller</td>\n",
       "      <td>Universal Pictures|Original Film|Media Rights ...</td>\n",
       "      <td>4/1/15</td>\n",
       "      <td>2947</td>\n",
       "      <td>7.3</td>\n",
       "      <td>2015</td>\n",
       "      <td>1.747999e+08</td>\n",
       "      <td>1.385749e+09</td>\n",
       "    </tr>\n",
       "  </tbody>\n",
       "</table>\n",
       "<p>5 rows × 21 columns</p>\n",
       "</div>"
      ],
      "text/plain": [
       "       id    imdb_id  popularity     budget     revenue  \\\n",
       "0  135397  tt0369610   32.985763  150000000  1513528810   \n",
       "1   76341  tt1392190   28.419936  150000000   378436354   \n",
       "2  262500  tt2908446   13.112507  110000000   295238201   \n",
       "3  140607  tt2488496   11.173104  200000000  2068178225   \n",
       "4  168259  tt2820852    9.335014  190000000  1506249360   \n",
       "\n",
       "                 original_title  \\\n",
       "0                Jurassic World   \n",
       "1            Mad Max: Fury Road   \n",
       "2                     Insurgent   \n",
       "3  Star Wars: The Force Awakens   \n",
       "4                     Furious 7   \n",
       "\n",
       "                                                cast  \\\n",
       "0  Chris Pratt|Bryce Dallas Howard|Irrfan Khan|Vi...   \n",
       "1  Tom Hardy|Charlize Theron|Hugh Keays-Byrne|Nic...   \n",
       "2  Shailene Woodley|Theo James|Kate Winslet|Ansel...   \n",
       "3  Harrison Ford|Mark Hamill|Carrie Fisher|Adam D...   \n",
       "4  Vin Diesel|Paul Walker|Jason Statham|Michelle ...   \n",
       "\n",
       "                                            homepage          director  \\\n",
       "0                      http://www.jurassicworld.com/   Colin Trevorrow   \n",
       "1                        http://www.madmaxmovie.com/     George Miller   \n",
       "2     http://www.thedivergentseries.movie/#insurgent  Robert Schwentke   \n",
       "3  http://www.starwars.com/films/star-wars-episod...       J.J. Abrams   \n",
       "4                           http://www.furious7.com/         James Wan   \n",
       "\n",
       "                         tagline  ...  \\\n",
       "0              The park is open.  ...   \n",
       "1             What a Lovely Day.  ...   \n",
       "2     One Choice Can Destroy You  ...   \n",
       "3  Every generation has a story.  ...   \n",
       "4            Vengeance Hits Home  ...   \n",
       "\n",
       "                                            overview runtime  \\\n",
       "0  Twenty-two years after the events of Jurassic ...     124   \n",
       "1  An apocalyptic story set in the furthest reach...     120   \n",
       "2  Beatrice Prior must confront her inner demons ...     119   \n",
       "3  Thirty years after defeating the Galactic Empi...     136   \n",
       "4  Deckard Shaw seeks revenge against Dominic Tor...     137   \n",
       "\n",
       "                                      genres  \\\n",
       "0  Action|Adventure|Science Fiction|Thriller   \n",
       "1  Action|Adventure|Science Fiction|Thriller   \n",
       "2         Adventure|Science Fiction|Thriller   \n",
       "3   Action|Adventure|Science Fiction|Fantasy   \n",
       "4                      Action|Crime|Thriller   \n",
       "\n",
       "                                production_companies release_date vote_count  \\\n",
       "0  Universal Studios|Amblin Entertainment|Legenda...       6/9/15       5562   \n",
       "1  Village Roadshow Pictures|Kennedy Miller Produ...      5/13/15       6185   \n",
       "2  Summit Entertainment|Mandeville Films|Red Wago...      3/18/15       2480   \n",
       "3          Lucasfilm|Truenorth Productions|Bad Robot     12/15/15       5292   \n",
       "4  Universal Pictures|Original Film|Media Rights ...       4/1/15       2947   \n",
       "\n",
       "   vote_average  release_year    budget_adj   revenue_adj  \n",
       "0           6.5          2015  1.379999e+08  1.392446e+09  \n",
       "1           7.1          2015  1.379999e+08  3.481613e+08  \n",
       "2           6.3          2015  1.012000e+08  2.716190e+08  \n",
       "3           7.5          2015  1.839999e+08  1.902723e+09  \n",
       "4           7.3          2015  1.747999e+08  1.385749e+09  \n",
       "\n",
       "[5 rows x 21 columns]"
      ]
     },
     "execution_count": 2,
     "metadata": {},
     "output_type": "execute_result"
    }
   ],
   "source": [
    "# import the data\n",
    "# Load tmdb csv file and preview the first 5 rows\n",
    "movies = pd.read_csv('tmdb-movies.csv')# importing 'tmdb-movies data'\n",
    "movies.head()"
   ]
  },
  {
   "cell_type": "code",
   "execution_count": 3,
   "metadata": {},
   "outputs": [
    {
     "data": {
      "text/plain": [
       "(10866, 21)"
      ]
     },
     "execution_count": 3,
     "metadata": {},
     "output_type": "execute_result"
    }
   ],
   "source": [
    "# showing data structure of Movies datasets including number of rows and columns of the dataset\n",
    "movies.shape"
   ]
  },
  {
   "cell_type": "code",
   "execution_count": 4,
   "metadata": {},
   "outputs": [
    {
     "data": {
      "text/plain": [
       "Index(['id', 'imdb_id', 'popularity', 'budget', 'revenue', 'original_title',\n",
       "       'cast', 'homepage', 'director', 'tagline', 'keywords', 'overview',\n",
       "       'runtime', 'genres', 'production_companies', 'release_date',\n",
       "       'vote_count', 'vote_average', 'release_year', 'budget_adj',\n",
       "       'revenue_adj'],\n",
       "      dtype='object')"
      ]
     },
     "execution_count": 4,
     "metadata": {},
     "output_type": "execute_result"
    }
   ],
   "source": [
    "# viewing Movies dataset\n",
    "movies.head(1).columns"
   ]
  },
  {
   "cell_type": "code",
   "execution_count": 5,
   "metadata": {},
   "outputs": [
    {
     "data": {
      "text/plain": [
       "id                        int64\n",
       "imdb_id                  object\n",
       "popularity              float64\n",
       "budget                    int64\n",
       "revenue                   int64\n",
       "original_title           object\n",
       "cast                     object\n",
       "homepage                 object\n",
       "director                 object\n",
       "tagline                  object\n",
       "keywords                 object\n",
       "overview                 object\n",
       "runtime                   int64\n",
       "genres                   object\n",
       "production_companies     object\n",
       "release_date             object\n",
       "vote_count                int64\n",
       "vote_average            float64\n",
       "release_year              int64\n",
       "budget_adj              float64\n",
       "revenue_adj             float64\n",
       "dtype: object"
      ]
     },
     "execution_count": 5,
     "metadata": {},
     "output_type": "execute_result"
    }
   ],
   "source": [
    "# data types of Movies dataset\n",
    "movies.dtypes"
   ]
  },
  {
   "cell_type": "code",
   "execution_count": 6,
   "metadata": {},
   "outputs": [
    {
     "name": "stdout",
     "output_type": "stream",
     "text": [
      "<class 'pandas.core.frame.DataFrame'>\n",
      "RangeIndex: 10866 entries, 0 to 10865\n",
      "Data columns (total 21 columns):\n",
      " #   Column                Non-Null Count  Dtype  \n",
      "---  ------                --------------  -----  \n",
      " 0   id                    10866 non-null  int64  \n",
      " 1   imdb_id               10856 non-null  object \n",
      " 2   popularity            10866 non-null  float64\n",
      " 3   budget                10866 non-null  int64  \n",
      " 4   revenue               10866 non-null  int64  \n",
      " 5   original_title        10866 non-null  object \n",
      " 6   cast                  10790 non-null  object \n",
      " 7   homepage              2936 non-null   object \n",
      " 8   director              10822 non-null  object \n",
      " 9   tagline               8042 non-null   object \n",
      " 10  keywords              9373 non-null   object \n",
      " 11  overview              10862 non-null  object \n",
      " 12  runtime               10866 non-null  int64  \n",
      " 13  genres                10843 non-null  object \n",
      " 14  production_companies  9836 non-null   object \n",
      " 15  release_date          10866 non-null  object \n",
      " 16  vote_count            10866 non-null  int64  \n",
      " 17  vote_average          10866 non-null  float64\n",
      " 18  release_year          10866 non-null  int64  \n",
      " 19  budget_adj            10866 non-null  float64\n",
      " 20  revenue_adj           10866 non-null  float64\n",
      "dtypes: float64(4), int64(6), object(11)\n",
      "memory usage: 1.7+ MB\n"
     ]
    }
   ],
   "source": [
    "# Printing a concise summary of the data and Information about the dataset\n",
    "movies.info()"
   ]
  },
  {
   "cell_type": "code",
   "execution_count": 7,
   "metadata": {},
   "outputs": [
    {
     "data": {
      "text/html": [
       "<div>\n",
       "<style scoped>\n",
       "    .dataframe tbody tr th:only-of-type {\n",
       "        vertical-align: middle;\n",
       "    }\n",
       "\n",
       "    .dataframe tbody tr th {\n",
       "        vertical-align: top;\n",
       "    }\n",
       "\n",
       "    .dataframe thead th {\n",
       "        text-align: right;\n",
       "    }\n",
       "</style>\n",
       "<table border=\"1\" class=\"dataframe\">\n",
       "  <thead>\n",
       "    <tr style=\"text-align: right;\">\n",
       "      <th></th>\n",
       "      <th>id</th>\n",
       "      <th>popularity</th>\n",
       "      <th>budget</th>\n",
       "      <th>revenue</th>\n",
       "      <th>runtime</th>\n",
       "      <th>vote_count</th>\n",
       "      <th>vote_average</th>\n",
       "      <th>release_year</th>\n",
       "      <th>budget_adj</th>\n",
       "      <th>revenue_adj</th>\n",
       "    </tr>\n",
       "  </thead>\n",
       "  <tbody>\n",
       "    <tr>\n",
       "      <th>count</th>\n",
       "      <td>10866.000000</td>\n",
       "      <td>10866.000000</td>\n",
       "      <td>1.086600e+04</td>\n",
       "      <td>1.086600e+04</td>\n",
       "      <td>10866.000000</td>\n",
       "      <td>10866.000000</td>\n",
       "      <td>10866.000000</td>\n",
       "      <td>10866.000000</td>\n",
       "      <td>1.086600e+04</td>\n",
       "      <td>1.086600e+04</td>\n",
       "    </tr>\n",
       "    <tr>\n",
       "      <th>mean</th>\n",
       "      <td>66064.177434</td>\n",
       "      <td>0.646441</td>\n",
       "      <td>1.462570e+07</td>\n",
       "      <td>3.982332e+07</td>\n",
       "      <td>102.070863</td>\n",
       "      <td>217.389748</td>\n",
       "      <td>5.974922</td>\n",
       "      <td>2001.322658</td>\n",
       "      <td>1.755104e+07</td>\n",
       "      <td>5.136436e+07</td>\n",
       "    </tr>\n",
       "    <tr>\n",
       "      <th>std</th>\n",
       "      <td>92130.136561</td>\n",
       "      <td>1.000185</td>\n",
       "      <td>3.091321e+07</td>\n",
       "      <td>1.170035e+08</td>\n",
       "      <td>31.381405</td>\n",
       "      <td>575.619058</td>\n",
       "      <td>0.935142</td>\n",
       "      <td>12.812941</td>\n",
       "      <td>3.430616e+07</td>\n",
       "      <td>1.446325e+08</td>\n",
       "    </tr>\n",
       "    <tr>\n",
       "      <th>min</th>\n",
       "      <td>5.000000</td>\n",
       "      <td>0.000065</td>\n",
       "      <td>0.000000e+00</td>\n",
       "      <td>0.000000e+00</td>\n",
       "      <td>0.000000</td>\n",
       "      <td>10.000000</td>\n",
       "      <td>1.500000</td>\n",
       "      <td>1960.000000</td>\n",
       "      <td>0.000000e+00</td>\n",
       "      <td>0.000000e+00</td>\n",
       "    </tr>\n",
       "    <tr>\n",
       "      <th>25%</th>\n",
       "      <td>10596.250000</td>\n",
       "      <td>0.207583</td>\n",
       "      <td>0.000000e+00</td>\n",
       "      <td>0.000000e+00</td>\n",
       "      <td>90.000000</td>\n",
       "      <td>17.000000</td>\n",
       "      <td>5.400000</td>\n",
       "      <td>1995.000000</td>\n",
       "      <td>0.000000e+00</td>\n",
       "      <td>0.000000e+00</td>\n",
       "    </tr>\n",
       "    <tr>\n",
       "      <th>50%</th>\n",
       "      <td>20669.000000</td>\n",
       "      <td>0.383856</td>\n",
       "      <td>0.000000e+00</td>\n",
       "      <td>0.000000e+00</td>\n",
       "      <td>99.000000</td>\n",
       "      <td>38.000000</td>\n",
       "      <td>6.000000</td>\n",
       "      <td>2006.000000</td>\n",
       "      <td>0.000000e+00</td>\n",
       "      <td>0.000000e+00</td>\n",
       "    </tr>\n",
       "    <tr>\n",
       "      <th>75%</th>\n",
       "      <td>75610.000000</td>\n",
       "      <td>0.713817</td>\n",
       "      <td>1.500000e+07</td>\n",
       "      <td>2.400000e+07</td>\n",
       "      <td>111.000000</td>\n",
       "      <td>145.750000</td>\n",
       "      <td>6.600000</td>\n",
       "      <td>2011.000000</td>\n",
       "      <td>2.085325e+07</td>\n",
       "      <td>3.369710e+07</td>\n",
       "    </tr>\n",
       "    <tr>\n",
       "      <th>max</th>\n",
       "      <td>417859.000000</td>\n",
       "      <td>32.985763</td>\n",
       "      <td>4.250000e+08</td>\n",
       "      <td>2.781506e+09</td>\n",
       "      <td>900.000000</td>\n",
       "      <td>9767.000000</td>\n",
       "      <td>9.200000</td>\n",
       "      <td>2015.000000</td>\n",
       "      <td>4.250000e+08</td>\n",
       "      <td>2.827124e+09</td>\n",
       "    </tr>\n",
       "  </tbody>\n",
       "</table>\n",
       "</div>"
      ],
      "text/plain": [
       "                  id    popularity        budget       revenue       runtime  \\\n",
       "count   10866.000000  10866.000000  1.086600e+04  1.086600e+04  10866.000000   \n",
       "mean    66064.177434      0.646441  1.462570e+07  3.982332e+07    102.070863   \n",
       "std     92130.136561      1.000185  3.091321e+07  1.170035e+08     31.381405   \n",
       "min         5.000000      0.000065  0.000000e+00  0.000000e+00      0.000000   \n",
       "25%     10596.250000      0.207583  0.000000e+00  0.000000e+00     90.000000   \n",
       "50%     20669.000000      0.383856  0.000000e+00  0.000000e+00     99.000000   \n",
       "75%     75610.000000      0.713817  1.500000e+07  2.400000e+07    111.000000   \n",
       "max    417859.000000     32.985763  4.250000e+08  2.781506e+09    900.000000   \n",
       "\n",
       "         vote_count  vote_average  release_year    budget_adj   revenue_adj  \n",
       "count  10866.000000  10866.000000  10866.000000  1.086600e+04  1.086600e+04  \n",
       "mean     217.389748      5.974922   2001.322658  1.755104e+07  5.136436e+07  \n",
       "std      575.619058      0.935142     12.812941  3.430616e+07  1.446325e+08  \n",
       "min       10.000000      1.500000   1960.000000  0.000000e+00  0.000000e+00  \n",
       "25%       17.000000      5.400000   1995.000000  0.000000e+00  0.000000e+00  \n",
       "50%       38.000000      6.000000   2006.000000  0.000000e+00  0.000000e+00  \n",
       "75%      145.750000      6.600000   2011.000000  2.085325e+07  3.369710e+07  \n",
       "max     9767.000000      9.200000   2015.000000  4.250000e+08  2.827124e+09  "
      ]
     },
     "execution_count": 7,
     "metadata": {},
     "output_type": "execute_result"
    }
   ],
   "source": [
    "# Generating the descriptive statistics of the data\n",
    "movies.describe()"
   ]
  },
  {
   "cell_type": "code",
   "execution_count": null,
   "metadata": {},
   "outputs": [],
   "source": [
    "# Preview overall distribution of data from each properties\n",
    "movies.hist(figsize = (15,15), bins=60);"
   ]
  },
  {
   "cell_type": "markdown",
   "metadata": {},
   "source": [
    "There appear to be a lot of 0 values on budget and revenue based on the histograms shown.\n",
    "For more reliable results, rows containing these values can need to be omitted. "
   ]
  },
  {
   "cell_type": "code",
   "execution_count": null,
   "metadata": {},
   "outputs": [],
   "source": [
    "# Let's take a look at how many they have. \n",
    "print(movies[movies['budget']==0].shape)\n",
    "print(movies[movies['revenue']==0].shape)\n",
    "print(movies[movies['popularity']==0].shape)"
   ]
  },
  {
   "cell_type": "markdown",
   "metadata": {},
   "source": [
    "- According to the above, there are 5696 and 6016 counts of 0 values in the budget and revenue columns, respectively, which is quite a large number.In the popularity column, there are no 0 values. \n",
    "\n",
    "\n",
    "- Since each film receives a variety amount of votes, details such as vote count and vote average may be useless. \n",
    "\n",
    "\n",
    "- The columns id, imdb id, homepage, keywords, overview, production companies, vote count, vote average,  budget adj and revenue adj  are not useful and can be removed from the dataset.  \n",
    "\n",
    "\n",
    "Keep going...\n",
    "- Columns that aren't necessary for further analysis should be removed. \n",
    "- Apart from budget and revenue, delete duplicated and null values columns. \n",
    "- The budget and revenue that have no values must be Removed from films.\n",
    "\n"
   ]
  },
  {
   "cell_type": "code",
   "execution_count": null,
   "metadata": {},
   "outputs": [],
   "source": [
    "print(movies.head())"
   ]
  },
  {
   "cell_type": "code",
   "execution_count": null,
   "metadata": {},
   "outputs": [],
   "source": [
    "# check unique numbers for each column in Movies dataset\n",
    "movies.nunique()"
   ]
  },
  {
   "cell_type": "code",
   "execution_count": null,
   "metadata": {},
   "outputs": [],
   "source": [
    "# Deleting any columns that are no longer needed. \n",
    "movies.drop(['id', 'imdb_id','budget_adj', 'revenue_adj', 'homepage', 'keywords', 'tagline',\n",
    "                              'overview', 'production_companies', 'vote_count', 'vote_average'], axis=1, inplace=True)"
   ]
  },
  {
   "cell_type": "code",
   "execution_count": null,
   "metadata": {},
   "outputs": [],
   "source": [
    "# Inspecting remaining columns \n",
    "movies.head(1)"
   ]
  },
  {
   "cell_type": "code",
   "execution_count": null,
   "metadata": {},
   "outputs": [],
   "source": [
    "movies.dtypes"
   ]
  },
  {
   "cell_type": "code",
   "execution_count": null,
   "metadata": {},
   "outputs": [],
   "source": [
    "# Altering the Release date from a string to a datetime format, as well as the budget and revenue, to integers. \n",
    "movies['release_date'] = pd.to_datetime(movies['release_date'])\n",
    "movies['budget'] = movies['budget'].astype(int)\n",
    "movies['revenue'] = movies['revenue'].astype(int)\n",
    "movies['popularity'] = movies['popularity'].astype(int)"
   ]
  },
  {
   "cell_type": "code",
   "execution_count": null,
   "metadata": {},
   "outputs": [],
   "source": [
    "# Counting total duplicates\n",
    "movies.duplicated().sum()"
   ]
  },
  {
   "cell_type": "code",
   "execution_count": null,
   "metadata": {},
   "outputs": [],
   "source": [
    "# Removing all duplicates\n",
    "movies.drop_duplicates(inplace=True)"
   ]
  },
  {
   "cell_type": "code",
   "execution_count": null,
   "metadata": {},
   "outputs": [],
   "source": [
    "# Checking for null values. \n",
    "movies.isnull().sum()"
   ]
  },
  {
   "cell_type": "code",
   "execution_count": null,
   "metadata": {},
   "outputs": [],
   "source": [
    "# Filling the null values with zero. Check again\n",
    "movies.fillna(0, inplace = True)"
   ]
  },
  {
   "cell_type": "code",
   "execution_count": null,
   "metadata": {},
   "outputs": [],
   "source": [
    "# Removing rows with zero values in budget and revenue\n",
    "movies['budget'] = movies['budget'].replace(0, np.NaN)\n",
    "movies['revenue'] = movies['revenue'].replace(0, np.NaN)\n",
    "\n",
    "movies.dropna(inplace =True)"
   ]
  },
  {
   "cell_type": "code",
   "execution_count": null,
   "metadata": {},
   "outputs": [],
   "source": [
    "# Checking for values to be removed\n",
    "print(movies.isnull().sum())\n",
    "print(movies.duplicated().sum())"
   ]
  },
  {
   "cell_type": "markdown",
   "metadata": {},
   "source": [
    "<a id='eda'></a>\n",
    "## Exploratory Data Analysis\n",
    "After cleaning up the data and deleting any irrelevant information that may have an effect on the data set.\n",
    "The data is now available to be used to respond to questions, analyse statistics and create visualisations to research relationships. "
   ]
  },
  {
   "cell_type": "markdown",
   "metadata": {},
   "source": [
    "### Question 1. Which films are the most lucrative in terms of the box office?"
   ]
  },
  {
   "cell_type": "code",
   "execution_count": null,
   "metadata": {},
   "outputs": [],
   "source": [
    "# Making a new column for the profit  to determine which film is the most profitable. Make sure the datatype is integer. \n",
    "movies['profit'] = movies['revenue'] - movies['budget']\n",
    "movies['revenue'] = movies['revenue'].astype(int)\n",
    "movies.head(1)"
   ]
  },
  {
   "cell_type": "code",
   "execution_count": null,
   "metadata": {},
   "outputs": [],
   "source": [
    "# Ordering by the data by benefit and display the top 10 rows. \n",
    "movies.sort_values(['profit'], ascending = False).head(10)"
   ]
  },
  {
   "cell_type": "markdown",
   "metadata": {},
   "source": [
    "The top ten highest-grossing films are listed above. These are obviously well-known names.\n",
    "Avatar is at the top of the box office, grossing much more than the films that came after it. "
   ]
  },
  {
   "cell_type": "markdown",
   "metadata": {},
   "source": [
    "### Question 2. Which films have the most and least profit, budget and runtime?"
   ]
  },
  {
   "cell_type": "code",
   "execution_count": null,
   "metadata": {},
   "outputs": [],
   "source": [
    "# Creating a function to calculate the maximum and minimum number of films in each genre. \n",
    "def max_min_data(column_name):\n",
    "    \n",
    "    # Seeking the maximum from the column's index number and save it to movies. \n",
    "    highest_movie = movies[column_name].idxmax()\n",
    "    highest_movies = pd.DataFrame(movies.loc[highest_movie])\n",
    "    \n",
    "    # Seeking the minimum from the column's index number and save it to movies. \n",
    "    lowest_movie = movies[column_name].idxmin()\n",
    "    lowest_movies = pd.DataFrame(movies.loc[lowest_movie])\n",
    "    \n",
    "    # combining two films into one \n",
    "    max_min_data = pd.concat([highest_movies, lowest_movies], axis = 1)\n",
    "    \n",
    "    return max_min_data\n",
    "\n",
    "\n",
    "max_min_data('profit')\n",
    "    "
   ]
  },
  {
   "cell_type": "code",
   "execution_count": null,
   "metadata": {},
   "outputs": [],
   "source": [
    "# Applying the same function for budget\n",
    "max_min_data('budget')"
   ]
  },
  {
   "cell_type": "code",
   "execution_count": null,
   "metadata": {},
   "outputs": [],
   "source": [
    "# Applying the same function for runtime\n",
    "max_min_data('runtime')"
   ]
  },
  {
   "cell_type": "code",
   "execution_count": null,
   "metadata": {},
   "outputs": [],
   "source": [
    "movies.describe()"
   ]
  },
  {
   "cell_type": "markdown",
   "metadata": {},
   "source": [
    "After looking at the budget and runtime categories, we can see that Avatar makes the most money.\n",
    "When applied to the overall numbers, the feature makes sense. In contrast to other films, Avatar has a 75 percent longer runtime and a 75 percent higher budget. It demonstrates that making a successful film necessitates a lot of work. \n",
    "\n",
    "Let's look at some data in the form of graphical plots to help visualise and comprehend the query. \n"
   ]
  },
  {
   "cell_type": "code",
   "execution_count": null,
   "metadata": {},
   "outputs": [],
   "source": [
    "# Designing a bar chart for the top ten most successful films. \n",
    "# Ordering the raw data by benefit first. \n",
    "sorted_profit = movies['profit'].sort_values(ascending=False)[:10]\n",
    "\n",
    "# Building a benefit and title list that can be applied as the X-axis and Y-axis values in a bar graph. \n",
    "high_profit=pd.DataFrame()\n",
    "titles=[]\n",
    "profit=[]\n",
    "\n",
    "# Completing the values with raw data and sum up them to the lists. \n",
    "for i in sorted_profit.index:\n",
    "    titles.append(movies.loc[i,'original_title'])\n",
    "    profit.append(sorted_profit.loc[i])\n",
    "high_profit['Titles']=titles\n",
    "high_profit['Profit']=profit\n",
    "high_profit.set_index('Titles',inplace=True)\n",
    "\n",
    "# Plotting\n",
    "high_profit.plot(kind ='bar',color='green', figsize=(10,7))\n",
    "plt.title('Top 10 movies with the most profit');\n",
    "plt.ylabel('profit in billions ($)');\n",
    "sns.set_style('darkgrid')"
   ]
  },
  {
   "cell_type": "markdown",
   "metadata": {},
   "source": [
    "According to the results, the film avatar made the most money out of all the films in the dataset; its profit is nearly double that of 'the Net' in the top ten."
   ]
  },
  {
   "cell_type": "code",
   "execution_count": null,
   "metadata": {},
   "outputs": [],
   "source": [
    "# Having the same thing about your budget. \n",
    "profit_year = movies.groupby('release_year')['budget'].sum()\n",
    "profit_year.head(5)# See the top 10 movies with the most expense\n",
    "sorted_budget = movies['budget'].sort_values(ascending=False)[:10]\n",
    "high_budget=pd.DataFrame()\n",
    "titles_exp=[]\n",
    "budgets=[]\n",
    "for i in sorted_budget.index:\n",
    "    titles_exp.append(movies.loc[i,'original_title'])\n",
    "    budgets.append(sorted_budget.loc[i])\n",
    "high_budget['Titles']=titles_exp\n",
    "high_budget['Budgets']=budgets\n",
    "high_budget.set_index('Titles',inplace=True)\n",
    "high_budget.plot(kind ='bar',color='green', figsize=(10,8))\n",
    "plt.title('Top 10 movies with the most budget ');\n",
    "plt.ylabel('Budget in 100\\'s of million');"
   ]
  },
  {
   "cell_type": "markdown",
   "metadata": {},
   "source": [
    "The table above depicted the top ten film budgets. The film 'The Warrior's Way' cost about $400 million to make, which is much more than most films make in profit. It might not be one of the most famous films. "
   ]
  },
  {
   "cell_type": "code",
   "execution_count": null,
   "metadata": {},
   "outputs": [],
   "source": [
    "# Making a histogram for film runtimes.\n",
    "movies['runtime'].hist(figsize = (10,10), color='green', bins = 50)\n",
    "plt.xlabel('Runtime', fontsize = 16)\n",
    "plt.ylabel('Number of Movies', fontsize=16)\n",
    "plt.title('Runtime distribution of all the movies', fontsize=18);"
   ]
  },
  {
   "cell_type": "markdown",
   "metadata": {},
   "source": [
    "The majority of films are about 110 minutes long, which is consistent with the statistics presented earlier. "
   ]
  },
  {
   "cell_type": "code",
   "execution_count": null,
   "metadata": {},
   "outputs": [],
   "source": [
    "# Plotting Box plot for Runtime.\n",
    "movies['runtime'].plot(kind = 'box',color='green', figsize = (10,10));\n",
    "plt.ylabel('Minutes', fontsize=16)\n",
    "plt.xlabel('Runtime', fontsize=16)\n",
    "plt.title('Runtime distribution of all the movies', fontsize=20);"
   ]
  },
  {
   "cell_type": "markdown",
   "metadata": {},
   "source": [
    "The Box plot for runtime is shown below. At 350 minutes and 15 minutes, there are a handful of outliers.\n",
    "Since there are only 10,000 films in the database, this shouldn't have an effect on the total results. "
   ]
  },
  {
   "cell_type": "markdown",
   "metadata": {},
   "source": [
    "### Question 3. What effect does celebrity have on profit?"
   ]
  },
  {
   "cell_type": "code",
   "execution_count": null,
   "metadata": {},
   "outputs": [],
   "source": [
    "# To investigate the relationship between popularity and porfit, make a scatter storey. \n",
    "ax = sns.regplot(x=movies['popularity'],y=movies['profit'],color='green')\n",
    "# Creating a scatter plot with a title and labels. \n",
    "ax.set_title(\"Popularity Vs Profit\",fontsize=18)\n",
    "ax.set_xlabel(\"Popularity\",fontsize=16)\n",
    "ax.set_ylabel(\"Profit\",fontsize=16)\n",
    "\n",
    "# Making the size of the figure. \n",
    "sns.set(rc={'figure.figsize':(8,6)})\n",
    "\n",
    "\n",
    "def correlation_coeff(x,y):\n",
    "    std_x=(x-x.mean())/x.std(ddof=0)\n",
    "    std_y=(y-y.mean())/y.std(ddof=0)\n",
    "    return(std_x*std_y).mean()\n",
    "\n",
    "correlation_coeff(movies['popularity'],movies['profit'])\n"
   ]
  },
  {
   "cell_type": "markdown",
   "metadata": {},
   "source": [
    "It can be inferred from the scatter plot that there is a positive relationship between popularity and benefit.\n",
    "The trend line is pointing upwards, and the correlation coefficient value has been determined to be positive.\n",
    "The lower correlation coefficient value, on the other hand, is less attractive and may be attributed to movies with a high budget but low profit margin or other similar circumstances. "
   ]
  },
  {
   "cell_type": "markdown",
   "metadata": {},
   "source": [
    "### Question 4. Which years were the most profitable for films?"
   ]
  },
  {
   "cell_type": "code",
   "execution_count": null,
   "metadata": {},
   "outputs": [],
   "source": [
    "# Next, dividing the gross benefit by the number of years. \n",
    "profit_year = movies.groupby('release_year')['profit'].sum()\n",
    "profit_year.head(5)"
   ]
  },
  {
   "cell_type": "code",
   "execution_count": null,
   "metadata": {},
   "outputs": [],
   "source": [
    "# Making a graph of the query above. \n",
    "profit_year.plot(figsize = (12,8), color='green')\n",
    "plt.xlabel('Movies released year', fontsize = 14)\n",
    "plt.ylabel('Total Profits made by Movies', fontsize = 14)\n",
    "plt.title('Total Profits vs Movie Years', fontsize = 16);"
   ]
  },
  {
   "cell_type": "markdown",
   "metadata": {},
   "source": [
    "When struggling with time and numbers, a line plot can come in handy. Profits increase as the number of years increases, as seen in the graph. "
   ]
  },
  {
   "cell_type": "code",
   "execution_count": null,
   "metadata": {},
   "outputs": [],
   "source": [
    "# Making the same for the budget\n",
    "budget_year = movies.groupby('release_year')['budget'].sum()\n",
    "budget_year.head(5)\n",
    "\n",
    "# Making a graph of the query above.\n",
    "profit_year.plot(figsize = (12,8),color='green')\n",
    "plt.xlabel('Movies released year', fontsize = 14)\n",
    "plt.ylabel('Total budgets made by Movies', fontsize = 14)\n",
    "plt.title('Total budgets vs Movie Years', fontsize = 16);"
   ]
  },
  {
   "cell_type": "markdown",
   "metadata": {},
   "source": [
    "Profit and budgets have followed similar patterns over time. Both rises and peak at around year 2010.\n",
    "Great films are made with more money and effort, which makes sense. \n"
   ]
  },
  {
   "cell_type": "markdown",
   "metadata": {},
   "source": [
    "### Question 5. What are the most well-known actors, directors, and genres?"
   ]
  },
  {
   "cell_type": "code",
   "execution_count": null,
   "metadata": {},
   "outputs": [],
   "source": [
    "# To learn more about the cast, we'll break down each character in each film into different categories. \n",
    "movies.loc[:,['original_title', 'cast', 'director', 'genres']].head()"
   ]
  },
  {
   "cell_type": "code",
   "execution_count": null,
   "metadata": {},
   "outputs": [],
   "source": [
    "def extract_data(column_name):\n",
    "    movies['cast']=movies['cast'].astype(str)\n",
    "    movies['director']=movies['director'].astype(str)\n",
    "    \n",
    "    # Splitting the string by '|' from the column entered. \n",
    "    all_data = movies[column_name].str.cat(sep = '|')\n",
    "    \n",
    "    # Separating the principles and save them as a sequence. \n",
    "    all_data = pd.Series(all_data.split('|'))\n",
    "    \n",
    "    # Look at the list in descending order, beginning with the highest number. \n",
    "    count = all_data.value_counts(ascending = False)\n",
    "    \n",
    "    return count"
   ]
  },
  {
   "cell_type": "code",
   "execution_count": null,
   "metadata": {},
   "outputs": [],
   "source": [
    "# Applying the function for the casts.\n",
    "cast_count = extract_data('cast')\n",
    "cast_count = pd.DataFrame(data=cast_count)\n",
    "\n",
    "top_cast = cast_count.head(10)\n",
    "top_cast"
   ]
  },
  {
   "cell_type": "code",
   "execution_count": null,
   "metadata": {},
   "outputs": [],
   "source": [
    "# Applying the function for the directors, plot.\n",
    "director_count = extract_data('director')\n",
    "director_count = pd.DataFrame(data=director_count)\n",
    "\n",
    "top_director = director_count.head(10)\n",
    "top_director"
   ]
  },
  {
   "cell_type": "code",
   "execution_count": null,
   "metadata": {},
   "outputs": [],
   "source": [
    "movies.genres.unique()"
   ]
  },
  {
   "cell_type": "code",
   "execution_count": null,
   "metadata": {},
   "outputs": [],
   "source": [
    "# Applying the function for the genres, plot.\n",
    "genres_count = extract_data('genres')\n",
    "genres_count = pd.DataFrame(data=genres_count)\n",
    "\n",
    "top_genres = genres_count.head(10)\n",
    "top_genres"
   ]
  },
  {
   "cell_type": "markdown",
   "metadata": {},
   "source": [
    "### Question 6. Which months have the highest film profits?"
   ]
  },
  {
   "cell_type": "code",
   "execution_count": 46,
   "metadata": {},
   "outputs": [
    {
     "data": {
      "text/plain": [
       "0   2015-06-09\n",
       "1   2015-05-13\n",
       "2   2015-03-18\n",
       "3   2015-12-15\n",
       "4   2015-04-01\n",
       "Name: release_date, dtype: datetime64[ns]"
      ]
     },
     "execution_count": 46,
     "metadata": {},
     "output_type": "execute_result"
    }
   ],
   "source": [
    "movies['release_date'] = pd.to_datetime(movies['release_date'])\n",
    "movies['release_date'].head()"
   ]
  },
  {
   "cell_type": "code",
   "execution_count": 47,
   "metadata": {},
   "outputs": [
    {
     "data": {
      "image/png": "[encoded data removed]",
      "text/plain": [
       "<Figure size 576x432 with 1 Axes>"
      ]
     },
     "metadata": {},
     "output_type": "display_data"
    }
   ],
   "source": [
    "# The month number can be found by subtracting the release date from the month number. \n",
    "month_release = movies['release_date'].dt.month\n",
    "\n",
    "# Using value counts, count the number of movies in each month (). \n",
    "number_of_release = month_release.value_counts().sort_index()\n",
    "months=['Jan','Feb','Mar','Apr','May','Jun','Jul','Aug','Sep','Oct','Nov','Dec']\n",
    "number_of_release = pd.DataFrame(number_of_release)\n",
    "number_of_release['month'] = months\n",
    "\n",
    "# Adjusting the new dataframe's column name to 'number of release'. \n",
    "number_of_release.rename(columns = {'release_date':'number_of_release'},inplace=True)\n",
    "\n",
    "# Using plot, construct a bar graph. \n",
    "number_of_release.plot(x='month',kind='bar',color='green', fontsize = 11,figsize=(8,6))\n",
    "\n",
    "# Having the plot's names and titles.\n",
    "plt.title('Months vs Number Of Movie Releases',fontsize = 15)\n",
    "plt.xlabel('Month',fontsize = 13)\n",
    "plt.ylabel('Number of movie releases',fontsize = 13)\n",
    "sns.set_style(\"darkgrid\")"
   ]
  },
  {
   "cell_type": "markdown",
   "metadata": {},
   "source": [
    "We can deduce from the graph that the months of September and October have a higher number of releases. "
   ]
  },
  {
   "cell_type": "code",
   "execution_count": 48,
   "metadata": {},
   "outputs": [
    {
     "data": {
      "image/png": "[encoded data removed]",
      "text/plain": [
       "<Figure size 576x432 with 1 Axes>"
      ]
     },
     "metadata": {},
     "output_type": "display_data"
    }
   ],
   "source": [
    "# Making a dataframe in which each film's release month is stored. \n",
    "month_release = pd.DataFrame(month_release)\n",
    "\n",
    "# Modifying the column name of the new dataframe 'month_release'.\n",
    "month_release.rename(columns = {'release_date':'release_month'},inplace=True)\n",
    "\n",
    "# Sum up a new column 'revenue' in the dataframe 'month_release'.\n",
    "month_release['revenue'] = movies['revenue']\n",
    "\n",
    "# Making the group of the data according to their month and calculate the mean revenue of each month.\n",
    "mean_revenue  = month_release.groupby('release_month').mean()\n",
    "mean_revenue['month'] = months\n",
    "\n",
    "# Making the bar plot using pandas plot function.\n",
    "mean_revenue.plot(x='month',kind='bar',color='green',figsize = (8,6),fontsize=11)\n",
    "\n",
    "# Having the title and lables of the plot.\n",
    "plt.title('Average revenue by month (1960 - 2015)',fontsize = 15)\n",
    "plt.xlabel('Month',fontsize = 13)\n",
    "plt.ylabel('Average Revenue',fontsize = 13)\n",
    "sns.set_style(\"darkgrid\")"
   ]
  },
  {
   "cell_type": "markdown",
   "metadata": {},
   "source": [
    "According to the plot , films released in the months of May and June have a higher revenue than films released in other months. It may also have arisen as a result of outliers. "
   ]
  },
  {
   "cell_type": "markdown",
   "metadata": {},
   "source": [
    "<a id='conclusions'></a>\n",
    "## Conclusions"
   ]
  },
  {
   "cell_type": "markdown",
   "metadata": {},
   "source": [
    "A wealth of information about all films has been embedded The TMDb movie dataset.\n",
    "To have more reliable performance, null values, duplicated values, and 0 values were removed after Data Wrangling.\n",
    "In addition, incorrect datatypes were corrected, and new columns for further review, such as profit and monthly profit average, were produced further analysis  \n",
    "\n",
    "To help visualise and respond to questions, line plots, bar charts, and histograms are generated.\n",
    "The top profits, budgets, casts, directors, genres, and so on were all shown in the reports, as well as the average profits generated by each month.\n",
    "This provide useful statistics about which film characters receive the most interest and how many more films are sold in each month compared to the previous month. \n",
    "\n",
    "- Profits: Profits are linked to budget and popularity in a positive way. \n",
    "- Runtime: The total length of both films is 101.22 minutes. \n",
    "- Profit by months: In the summer, the months of May and June have the highest average film earnings. The next two months with the highest mean film earnings are November and December. \n",
    "- 1st rank  cast: Robert De Niro\n",
    "- 1st rank director: Steven Spielberg\n",
    "- 1st rank genre: Drama\n",
    "\n",
    "### Assumption: \n",
    "Yet we were able to consistently pre-edit the above features on the TMDb movie dataset, many details were lost, such as rows with 0 values and null values. The dataset was reduced by a few thousand rows of films, which had a significant impact on the outcome. Furthermore, each film won a various number of votes.\n",
    "As a result, films with several or more votes would be inaccurate. To make the information useful for data analysis, it should be collected in a consistent manner.\n"
   ]
  },
  {
   "cell_type": "markdown",
   "metadata": {},
   "source": [
    "## Sources.\n",
    "\n",
    "\n",
    "- Pandas documentation <br>\n",
    "\n",
    "- Kaggle guide<br>\n",
    "\n",
    "- Stack Overflow<br>\n",
    "\n",
    "- w3schools<br>\n",
    "\n",
    "- Guru99<br>\n",
    "\n",
    "- Tutorialspoint<br>\n",
    "\n",
    "- Realpython<br>"
   ]
  },
  {
   "cell_type": "code",
   "execution_count": null,
   "metadata": {},
   "outputs": [],
   "source": []
  }
 ],
 "metadata": {
  "kernelspec": {
   "display_name": "Python 3",
   "language": "python",
   "name": "python3"
  },
  "language_info": {
   "codemirror_mode": {
    "name": "ipython",
    "version": 3
   },
   "file_extension": ".py",
   "mimetype": "text/x-python",
   "name": "python",
   "nbconvert_exporter": "python",
   "pygments_lexer": "ipython3",
   "version": "3.8.5"
  }
 },
 "nbformat": 4,
 "nbformat_minor": 4
}
